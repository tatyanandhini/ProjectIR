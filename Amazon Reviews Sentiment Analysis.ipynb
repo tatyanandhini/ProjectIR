{
 "cells": [
  {
   "cell_type": "markdown",
   "metadata": {},
   "source": [
    "# Projek Kelompok Information Retrieval\n",
    "# Topik: Review Categorization\n",
    "\n",
    "# Group:\n",
    "Alvita Hartanti Wijaya (2201829640)\n",
    "\n",
    "Jonathan Herbert (2201786566)\n",
    "\n",
    "Putra Aji Lintang Kusuma (2201785292)\n",
    "\n",
    "Tatyana Mitya Wahyu Andini (2201831651)\n",
    "\n",
    "Yogga Putra Rachmadi (2201819210)\n",
    "\n",
    "# Reference:\n",
    "https://gist.github.com/kunalj101/ad1d9c58d338e20d09ff26bcc06c4235\n",
    "\n",
    "https://scikit-learn.org/stable/modules/generated/sklearn.metrics.classification_report.html\n",
    "\n",
    "https://blog.exsilio.com/all/accuracy-precision-recall-f1-score-interpretation-of-performance-measures/\n",
    "\n",
    "https://www.wonderflow.ai/blog/sentiment-analysis-examples\n",
    "\n",
    "https://arxiv.org/ftp/arxiv/papers/1610/1610.09982.pdf\n",
    "\n",
    "https://www.researchgate.net/publication/261497806_Sentiment_analysis_of_Facebook_statuses_using_Naive_Bayes_Classifier_for_language_learning"
   ]
  },
  {
   "cell_type": "markdown",
   "metadata": {},
   "source": [
    "# Import the libraries"
   ]
  },
  {
   "cell_type": "code",
   "execution_count": 10,
   "metadata": {},
   "outputs": [],
   "source": [
    "from sklearn import model_selection, preprocessing, linear_model, naive_bayes, metrics, svm\n",
    "from sklearn.feature_extraction.text import TfidfVectorizer, CountVectorizer\n",
    "from sklearn import decomposition, ensemble\n",
    "from sklearn.metrics import precision_recall_fscore_support, classification_report\n",
    "\n",
    "import pandas, numpy, string\n",
    "from keras.preprocessing import text, sequence\n",
    "from keras import layers, models, optimizers"
   ]
  },
  {
   "cell_type": "markdown",
   "metadata": {},
   "source": [
    "# Prepare the Dataset"
   ]
  },
  {
   "cell_type": "code",
   "execution_count": 2,
   "metadata": {},
   "outputs": [
    {
     "data": {
      "text/html": [
       "<div>\n",
       "<style scoped>\n",
       "    .dataframe tbody tr th:only-of-type {\n",
       "        vertical-align: middle;\n",
       "    }\n",
       "\n",
       "    .dataframe tbody tr th {\n",
       "        vertical-align: top;\n",
       "    }\n",
       "\n",
       "    .dataframe thead th {\n",
       "        text-align: right;\n",
       "    }\n",
       "</style>\n",
       "<table border=\"1\" class=\"dataframe\">\n",
       "  <thead>\n",
       "    <tr style=\"text-align: right;\">\n",
       "      <th></th>\n",
       "      <th>text</th>\n",
       "      <th>label</th>\n",
       "    </tr>\n",
       "  </thead>\n",
       "  <tbody>\n",
       "    <tr>\n",
       "      <th>count</th>\n",
       "      <td>10000</td>\n",
       "      <td>10000</td>\n",
       "    </tr>\n",
       "    <tr>\n",
       "      <th>unique</th>\n",
       "      <td>10000</td>\n",
       "      <td>2</td>\n",
       "    </tr>\n",
       "    <tr>\n",
       "      <th>top</th>\n",
       "      <td>Not worth your money: This game is ridiculousl...</td>\n",
       "      <td>__label__1</td>\n",
       "    </tr>\n",
       "    <tr>\n",
       "      <th>freq</th>\n",
       "      <td>1</td>\n",
       "      <td>5097</td>\n",
       "    </tr>\n",
       "  </tbody>\n",
       "</table>\n",
       "</div>"
      ],
      "text/plain": [
       "                                                     text       label\n",
       "count                                               10000       10000\n",
       "unique                                              10000           2\n",
       "top     Not worth your money: This game is ridiculousl...  __label__1\n",
       "freq                                                    1        5097"
      ]
     },
     "execution_count": 2,
     "metadata": {},
     "output_type": "execute_result"
    }
   ],
   "source": [
    "# load the dataset\n",
    "data = open('D:\\corpus', encoding=\"utf8\").read()\n",
    "labels, texts = [], []\n",
    "for i, line in enumerate(data.split(\"\\n\")):\n",
    "    content = line.split()\n",
    "    labels.append(content[0])\n",
    "    texts.append(\" \".join(content[1:]))\n",
    "\n",
    "# create a dataframe using texts and lables\n",
    "trainDF = pandas.DataFrame()\n",
    "trainDF['text'] = texts\n",
    "trainDF['label'] = labels\n",
    "\n",
    "trainDF.describe()"
   ]
  },
  {
   "cell_type": "markdown",
   "metadata": {},
   "source": [
    "# Split data to train and test set"
   ]
  },
  {
   "cell_type": "code",
   "execution_count": 3,
   "metadata": {},
   "outputs": [],
   "source": [
    "# split the dataset into training and validation datasets \n",
    "train_x, test_x, train_y, test_y = model_selection.train_test_split(trainDF['text'], trainDF['label'])\n",
    "\n",
    "# label encode the target variable \n",
    "encoder = preprocessing.LabelEncoder()\n",
    "train_y = encoder.fit_transform(train_y)\n",
    "test_y = encoder.fit_transform(test_y)"
   ]
  },
  {
   "cell_type": "markdown",
   "metadata": {},
   "source": [
    "# Feature Engineering"
   ]
  },
  {
   "cell_type": "markdown",
   "metadata": {},
   "source": [
    "# We will use TF-IDF Vectors as features"
   ]
  },
  {
   "cell_type": "code",
   "execution_count": 4,
   "metadata": {},
   "outputs": [],
   "source": [
    "# ngram level tf-idf \n",
    "tfidf_vect_ngram = TfidfVectorizer(analyzer='word', token_pattern=r'\\w{1,}', ngram_range=(2,3), max_features=5000)\n",
    "tfidf_vect_ngram.fit(trainDF['text'])\n",
    "xtrain_tfidf_ngram =  tfidf_vect_ngram.transform(train_x)\n",
    "xtest_tfidf_ngram =  tfidf_vect_ngram.transform(test_x)\n"
   ]
  },
  {
   "cell_type": "markdown",
   "metadata": {},
   "source": [
    "# Model Building"
   ]
  },
  {
   "cell_type": "code",
   "execution_count": 5,
   "metadata": {},
   "outputs": [
    {
     "name": "stdout",
     "output_type": "stream",
     "text": [
      "Accuracy:  0.84\n"
     ]
    }
   ],
   "source": [
    "def train_model(classifier, feature_vector_train, label, feature_vector_valid, is_neural_net=False):\n",
    "    # fit the training dataset on the classifier\n",
    "    classifier.fit(feature_vector_train, label)\n",
    "    \n",
    "    # predict the labels on validation dataset\n",
    "    predictions = classifier.predict(feature_vector_valid)\n",
    "    \n",
    "    if is_neural_net:\n",
    "        predictions = predictions.argmax(axis=-1)\n",
    "    \n",
    "    return metrics.accuracy_score(predictions, test_y)\n",
    "\n",
    "# Naive Bayes on Ngram Level TF IDF Vectors\n",
    "accuracy = train_model(naive_bayes.MultinomialNB(), xtrain_tfidf_ngram, train_y, xtest_tfidf_ngram)\n",
    "print(\"Accuracy: \", accuracy)"
   ]
  },
  {
   "cell_type": "code",
   "execution_count": 11,
   "metadata": {},
   "outputs": [
    {
     "name": "stdout",
     "output_type": "stream",
     "text": [
      "Accuracy: 0.84\n",
      "\n",
      "Tes 10 data\n",
      "TEST KE 1\n",
      "Test: 0\n",
      "Actual: 0\n",
      "\n",
      "TEST KE 2\n",
      "Test: 0\n",
      "Actual: 0\n",
      "\n",
      "TEST KE 3\n",
      "Test: 0\n",
      "Actual: 0\n",
      "\n",
      "TEST KE 4\n",
      "Test: 0\n",
      "Actual: 0\n",
      "\n",
      "TEST KE 5\n",
      "Test: 0\n",
      "Actual: 0\n",
      "\n",
      "TEST KE 6\n",
      "Test: 1\n",
      "Actual: 1\n",
      "\n",
      "TEST KE 7\n",
      "Test: 0\n",
      "Actual: 0\n",
      "\n",
      "TEST KE 8\n",
      "Test: 0\n",
      "Actual: 0\n",
      "\n",
      "TEST KE 9\n",
      "Test: 0\n",
      "Actual: 0\n",
      "\n",
      "TEST KE 10\n",
      "Test: 1\n",
      "Actual: 1\n",
      "\n",
      "Dari total prediksi sebanyak 2500\n",
      "Jumlah betul sebanyak 2100\n",
      "Accuracy percentage: 0.84\n",
      "\n",
      "              precision    recall  f1-score   support\n",
      "\n",
      "           0       0.84      0.85      0.85      1290\n",
      "           1       0.84      0.83      0.83      1210\n",
      "\n",
      "    accuracy                           0.84      2500\n",
      "   macro avg       0.84      0.84      0.84      2500\n",
      "weighted avg       0.84      0.84      0.84      2500\n",
      "\n"
     ]
    }
   ],
   "source": [
    "testing = naive_bayes.MultinomialNB().fit(xtrain_tfidf_ngram, train_y)\n",
    "predicted = testing.predict(xtest_tfidf_ngram)\n",
    "print(\"Accuracy:\",metrics.accuracy_score(test_y, predicted))\n",
    "print(\"\")\n",
    "count = 0\n",
    "for i, j in zip(predicted,test_y):\n",
    "    if i == j:\n",
    "        count = count + 1\n",
    "    else:\n",
    "        continue\n",
    "\n",
    "print(\"Tes 10 data\")\n",
    "for i in range(10):\n",
    "    print(\"TEST KE\",i+1)\n",
    "    print(\"Test:\", test_y[i])\n",
    "    print(\"Actual:\", predicted[i])\n",
    "    print(\"\")\n",
    "\n",
    "\n",
    "print(\"Dari total prediksi sebanyak\",len(predicted))\n",
    "print(\"Jumlah betul sebanyak\",count)\n",
    "percentage = (count/len(predicted))\n",
    "print(\"Accuracy percentage:\", percentage)\n",
    "target_names = ['0','1']\n",
    "print(\"\")\n",
    "print(classification_report(test_y, predicted, target_names=target_names))"
   ]
  }
 ],
 "metadata": {
  "kernelspec": {
   "display_name": "Python 3",
   "language": "python",
   "name": "python3"
  },
  "language_info": {
   "codemirror_mode": {
    "name": "ipython",
    "version": 3
   },
   "file_extension": ".py",
   "mimetype": "text/x-python",
   "name": "python",
   "nbconvert_exporter": "python",
   "pygments_lexer": "ipython3",
   "version": "3.7.3"
  }
 },
 "nbformat": 4,
 "nbformat_minor": 2
}
